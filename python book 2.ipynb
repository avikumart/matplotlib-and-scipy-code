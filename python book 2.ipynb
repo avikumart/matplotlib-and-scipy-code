{
 "cells": [
  {
   "cell_type": "code",
   "execution_count": 1,
   "id": "5fcb68da",
   "metadata": {},
   "outputs": [
    {
     "name": "stdout",
     "output_type": "stream",
     "text": [
      "hello\n"
     ]
    }
   ],
   "source": [
    "print(\"hello\")"
   ]
  },
  {
   "cell_type": "code",
   "execution_count": 5,
   "id": "0a682fb8",
   "metadata": {},
   "outputs": [
    {
     "name": "stdout",
     "output_type": "stream",
     "text": [
      "f\n",
      "r\n",
      "u\n"
     ]
    }
   ],
   "source": [
    "for x in \"fruits\":\n",
    "    print(x)\n",
    "    if x == \"u\":\n",
    "              \n",
    "            break"
   ]
  },
  {
   "cell_type": "code",
   "execution_count": 10,
   "id": "6f3b1d79",
   "metadata": {},
   "outputs": [
    {
     "name": "stdout",
     "output_type": "stream",
     "text": [
      "a\n"
     ]
    }
   ],
   "source": [
    "for x in \"banana\":\n",
    "    if x == \"a\":\n",
    "        continue\n",
    "print(x)"
   ]
  },
  {
   "cell_type": "code",
   "execution_count": 11,
   "id": "da13da97",
   "metadata": {},
   "outputs": [
    {
     "name": "stdout",
     "output_type": "stream",
     "text": [
      "range(0, 6)\n"
     ]
    }
   ],
   "source": [
    "print(range(6))"
   ]
  },
  {
   "cell_type": "code",
   "execution_count": 12,
   "id": "89908fce",
   "metadata": {},
   "outputs": [
    {
     "name": "stdout",
     "output_type": "stream",
     "text": [
      "0\n",
      "1\n",
      "2\n",
      "3\n",
      "4\n",
      "5\n"
     ]
    }
   ],
   "source": [
    "for x in range(6):\n",
    "    print(x)"
   ]
  },
  {
   "cell_type": "code",
   "execution_count": 13,
   "id": "46bd1c8e",
   "metadata": {},
   "outputs": [
    {
     "name": "stdout",
     "output_type": "stream",
     "text": [
      "2\n",
      "5\n",
      "8\n",
      "11\n",
      "14\n",
      "17\n",
      "20\n",
      "23\n",
      "26\n",
      "29\n",
      "32\n",
      "35\n",
      "38\n"
     ]
    }
   ],
   "source": [
    "for x in range(2, 40, 3):\n",
    "    print(x)"
   ]
  },
  {
   "cell_type": "code",
   "execution_count": 28,
   "id": "52af2174",
   "metadata": {},
   "outputs": [
    {
     "name": "stdout",
     "output_type": "stream",
     "text": [
      "0\n",
      "1\n",
      "2\n",
      "3\n",
      "4\n",
      "5\n",
      "6\n",
      "finished\n"
     ]
    }
   ],
   "source": [
    "for x in range(7):\n",
    "    \n",
    "    print(x)\n",
    "else:\n",
    "    print(\"finished\")"
   ]
  },
  {
   "cell_type": "code",
   "execution_count": 27,
   "id": "81933933",
   "metadata": {},
   "outputs": [],
   "source": [
    "for x in [2,3,4]:\n",
    "    pass"
   ]
  },
  {
   "cell_type": "code",
   "execution_count": 29,
   "id": "9507e0f5",
   "metadata": {},
   "outputs": [
    {
     "name": "stdout",
     "output_type": "stream",
     "text": [
      "a is greter than b\n"
     ]
    }
   ],
   "source": [
    "a = 456\n",
    "b = 123\n",
    "\n",
    "if a<b:\n",
    "    print(\"a id less than b\")\n",
    "else:\n",
    "    print(\"a is greter than b\")"
   ]
  },
  {
   "cell_type": "markdown",
   "id": "b11773b5",
   "metadata": {},
   "source": [
    "# python functions"
   ]
  },
  {
   "cell_type": "code",
   "execution_count": 30,
   "id": "cd86841c",
   "metadata": {},
   "outputs": [
    {
     "name": "stdout",
     "output_type": "stream",
     "text": [
      "hello func\n"
     ]
    }
   ],
   "source": [
    "def myfunc():\n",
    "    print(\"hello func\")\n",
    "    \n",
    "myfunc()"
   ]
  },
  {
   "cell_type": "code",
   "execution_count": 39,
   "id": "e6643b4a",
   "metadata": {},
   "outputs": [
    {
     "name": "stdout",
     "output_type": "stream",
     "text": [
      "forcejoy\n",
      "kimblejoy\n"
     ]
    }
   ],
   "source": [
    "def myfunc(fname):\n",
    "    print(fname + \"joy\")\n",
    "\n",
    "    \n",
    "\n",
    "myfunc(\"force\")\n",
    "myfunc(\"kimble\")"
   ]
  },
  {
   "cell_type": "code",
   "execution_count": 40,
   "id": "260dc0b6",
   "metadata": {},
   "outputs": [
    {
     "name": "stdout",
     "output_type": "stream",
     "text": [
      "kimble musk\n"
     ]
    }
   ],
   "source": [
    "def myfunc(fname, lname):\n",
    "    print(fname +\" \"+ lname)\n",
    "    \n",
    "    \n",
    "myfunc(\"kimble\",\"musk\")"
   ]
  },
  {
   "cell_type": "code",
   "execution_count": 42,
   "id": "5700e462",
   "metadata": {},
   "outputs": [
    {
     "name": "stdout",
     "output_type": "stream",
     "text": [
      "my youngest child is pi\n"
     ]
    }
   ],
   "source": [
    "def myf(c1,c2,c3):\n",
    "    print(\"my youngest child is\" + \" \" +c3)\n",
    "    \n",
    "myf(c1= \"jo\", c2= \"ko\", c3 = \"pi\")\n"
   ]
  },
  {
   "cell_type": "code",
   "execution_count": 48,
   "id": "c36f4a44",
   "metadata": {},
   "outputs": [
    {
     "name": "stdout",
     "output_type": "stream",
     "text": [
      "apple\n",
      "banana\n",
      "kiwi\n",
      "graps\n",
      "gold\n",
      "tomato\n"
     ]
    }
   ],
   "source": [
    "fruits = [\"apple\",\"banana\",\"kiwi\"]\n",
    "fruits1 = [\"graps\",\"gold\",\"tomato\"]\n",
    "\n",
    "def myfunc(food):\n",
    "    for x in food:\n",
    "        print(x)\n",
    "        \n",
    "myfunc(fruits) \n",
    "\n",
    "\n",
    "myfunc(fruits1)\n"
   ]
  },
  {
   "cell_type": "code",
   "execution_count": 54,
   "id": "be990dd3",
   "metadata": {},
   "outputs": [
    {
     "name": "stdout",
     "output_type": "stream",
     "text": [
      "8\n"
     ]
    }
   ],
   "source": [
    "def myf(x):\n",
    "    return (x**2 + 2*x)\n",
    "\n",
    "print(myf(2))\n"
   ]
  },
  {
   "cell_type": "code",
   "execution_count": 15,
   "id": "d353afd5",
   "metadata": {},
   "outputs": [
    {
     "name": "stdout",
     "output_type": "stream",
     "text": [
      "4\n",
      "7\n",
      "9\n"
     ]
    },
    {
     "data": {
      "text/plain": [
       "9"
      ]
     },
     "execution_count": 15,
     "metadata": {},
     "output_type": "execute_result"
    }
   ],
   "source": [
    "def try_recursion(k):\n",
    "    if(k<5):\n",
    "        result = k + try_recursion(k+1)\n",
    "        print(result)\n",
    "    else:\n",
    "        result = 0\n",
    "    return result\n",
    "    \n",
    "\n",
    "\n",
    "try_recursion(2)"
   ]
  },
  {
   "cell_type": "code",
   "execution_count": 14,
   "id": "b2adca9e",
   "metadata": {},
   "outputs": [
    {
     "name": "stdout",
     "output_type": "stream",
     "text": [
      "['apple', 'orange', 'kiwi', 'kiwi', 'kiwi', 'kiwi', 'kiwi']\n"
     ]
    }
   ],
   "source": [
    "def myfunction(anylist):\n",
    "    mylist.append(\"kiwi\")\n",
    "    print(mylist)\n",
    "    \n",
    "mlist = [\"apple\",\"orange\"]\n",
    "\n",
    "\n",
    "myfunction(mylist)"
   ]
  },
  {
   "cell_type": "code",
   "execution_count": 8,
   "id": "7262b0b0",
   "metadata": {},
   "outputs": [
    {
     "name": "stdout",
     "output_type": "stream",
     "text": [
      "['apple', 'orange', 'kiwi', 'kiwi', 'kiwi']\n"
     ]
    }
   ],
   "source": [
    "print(mylist)"
   ]
  },
  {
   "cell_type": "code",
   "execution_count": 9,
   "id": "3986f4e7",
   "metadata": {},
   "outputs": [
    {
     "name": "stdout",
     "output_type": "stream",
     "text": [
      "['apple', 'orange']\n"
     ]
    }
   ],
   "source": [
    "print(mlist)"
   ]
  },
  {
   "cell_type": "code",
   "execution_count": 11,
   "id": "4c4268ee",
   "metadata": {},
   "outputs": [
    {
     "name": "stdout",
     "output_type": "stream",
     "text": [
      "['apple', 'orange', 'kiwi', 'kiwi', 'kiwi', 'kiwi']\n"
     ]
    }
   ],
   "source": [
    "myfunction(mlist)"
   ]
  },
  {
   "cell_type": "code",
   "execution_count": 30,
   "id": "3de54574",
   "metadata": {},
   "outputs": [
    {
     "name": "stdout",
     "output_type": "stream",
     "text": [
      "65\n"
     ]
    }
   ],
   "source": [
    "def func(x):\n",
    "    result= x**x**x + 45 + x*2\n",
    "    if result < 60:\n",
    "                 print(\"result is less than 60\")\n",
    "    else:\n",
    "                 print(result)\n",
    "            \n",
    "\n",
    "func(2)"
   ]
  },
  {
   "cell_type": "code",
   "execution_count": 38,
   "id": "7ac2e61d",
   "metadata": {},
   "outputs": [
    {
     "name": "stdout",
     "output_type": "stream",
     "text": [
      "('jan', 'feb', 'march', 'april')\n"
     ]
    }
   ],
   "source": [
    "mytu = tuple((\"jan\",\"feb\",\"march\",\"april\"))\n",
    "\n",
    "print(mytu)"
   ]
  },
  {
   "cell_type": "code",
   "execution_count": 34,
   "id": "6a202081",
   "metadata": {},
   "outputs": [
    {
     "name": "stdout",
     "output_type": "stream",
     "text": [
      "()\n"
     ]
    }
   ],
   "source": [
    "print(tuple())"
   ]
  },
  {
   "cell_type": "code",
   "execution_count": 39,
   "id": "2f966613",
   "metadata": {},
   "outputs": [
    {
     "name": "stdout",
     "output_type": "stream",
     "text": [
      "('jan', 'feb', 'march', 'april')\n"
     ]
    }
   ],
   "source": [
    "print(mytu)"
   ]
  },
  {
   "cell_type": "code",
   "execution_count": 47,
   "id": "5430b772",
   "metadata": {},
   "outputs": [
    {
     "name": "stdout",
     "output_type": "stream",
     "text": [
      "jan\n",
      "feb\n"
     ]
    }
   ],
   "source": [
    "for x in mytu:\n",
    "   \n",
    "    if x == \"march\":\n",
    "        break\n",
    "    print(x)\n",
    "    \n"
   ]
  },
  {
   "cell_type": "code",
   "execution_count": 1,
   "id": "8e924bf5",
   "metadata": {},
   "outputs": [
    {
     "name": "stdout",
     "output_type": "stream",
     "text": [
      "178\n"
     ]
    }
   ],
   "source": [
    "x = lambda a : a*89\n",
    "\n",
    "print(x(2))"
   ]
  },
  {
   "cell_type": "code",
   "execution_count": 5,
   "id": "1cafbb08",
   "metadata": {},
   "outputs": [
    {
     "name": "stdout",
     "output_type": "stream",
     "text": [
      "65\n"
     ]
    }
   ],
   "source": [
    "a = lambda x : x + 45\n",
    "\n",
    "\n",
    "print(a(20))"
   ]
  },
  {
   "cell_type": "code",
   "execution_count": 9,
   "id": "d593b422",
   "metadata": {},
   "outputs": [
    {
     "name": "stdout",
     "output_type": "stream",
     "text": [
      "100\n"
     ]
    }
   ],
   "source": [
    "def myfunction(n):\n",
    "    return lambda a : a*n\n",
    "\n",
    "fun = myfunction(2)\n",
    "\n",
    "print(fun(50))"
   ]
  },
  {
   "cell_type": "code",
   "execution_count": 10,
   "id": "7a54abd3",
   "metadata": {},
   "outputs": [],
   "source": [
    "# function contains lambda so lambda is my new funtion "
   ]
  },
  {
   "cell_type": "code",
   "execution_count": 11,
   "id": "9846dc01",
   "metadata": {},
   "outputs": [
    {
     "data": {
      "text/plain": [
       "'bmw'"
      ]
     },
     "execution_count": 11,
     "metadata": {},
     "output_type": "execute_result"
    }
   ],
   "source": [
    "car = [\"bmw\",\"ford\",\"tata\",\"benz\"]\n",
    "\n"
   ]
  },
  {
   "cell_type": "code",
   "execution_count": 12,
   "id": "1029009f",
   "metadata": {},
   "outputs": [
    {
     "name": "stdout",
     "output_type": "stream",
     "text": [
      "['bmw', 'ford', 'tata', 'benz']\n"
     ]
    }
   ],
   "source": [
    "print(car)"
   ]
  },
  {
   "cell_type": "code",
   "execution_count": 13,
   "id": "ce4124e3",
   "metadata": {},
   "outputs": [
    {
     "name": "stdout",
     "output_type": "stream",
     "text": [
      "tata\n"
     ]
    }
   ],
   "source": [
    "print(car[2])"
   ]
  },
  {
   "cell_type": "code",
   "execution_count": 14,
   "id": "5b0ef1b1",
   "metadata": {},
   "outputs": [],
   "source": [
    "car[3]= \"toyota\""
   ]
  },
  {
   "cell_type": "code",
   "execution_count": 15,
   "id": "c2ad387a",
   "metadata": {},
   "outputs": [
    {
     "name": "stdout",
     "output_type": "stream",
     "text": [
      "['bmw', 'ford', 'tata', 'toyota']\n"
     ]
    }
   ],
   "source": [
    "print(car)"
   ]
  },
  {
   "cell_type": "code",
   "execution_count": 16,
   "id": "a50b05ec",
   "metadata": {},
   "outputs": [],
   "source": [
    "car.append(\"benz\")"
   ]
  },
  {
   "cell_type": "code",
   "execution_count": 17,
   "id": "97d6f424",
   "metadata": {},
   "outputs": [
    {
     "data": {
      "text/plain": [
       "'bmw'"
      ]
     },
     "execution_count": 17,
     "metadata": {},
     "output_type": "execute_result"
    }
   ],
   "source": [
    "car.pop(0)"
   ]
  },
  {
   "cell_type": "code",
   "execution_count": 18,
   "id": "2b9a24bc",
   "metadata": {},
   "outputs": [
    {
     "name": "stdout",
     "output_type": "stream",
     "text": [
      "['ford', 'tata', 'toyota', 'benz']\n"
     ]
    }
   ],
   "source": [
    "print(car)"
   ]
  },
  {
   "cell_type": "code",
   "execution_count": 19,
   "id": "a16d91df",
   "metadata": {},
   "outputs": [],
   "source": [
    "car.sort()"
   ]
  },
  {
   "cell_type": "code",
   "execution_count": 21,
   "id": "1081a8b2",
   "metadata": {},
   "outputs": [
    {
     "name": "stdout",
     "output_type": "stream",
     "text": [
      "['benz', 'ford', 'tata', 'toyota']\n"
     ]
    }
   ],
   "source": [
    "print(car)"
   ]
  },
  {
   "cell_type": "code",
   "execution_count": 22,
   "id": "6efd6f61",
   "metadata": {},
   "outputs": [
    {
     "name": "stdout",
     "output_type": "stream",
     "text": [
      "None\n"
     ]
    }
   ],
   "source": [
    "print(car.sort(reverse = True))"
   ]
  },
  {
   "cell_type": "code",
   "execution_count": 23,
   "id": "3ef30d00",
   "metadata": {},
   "outputs": [
    {
     "name": "stdout",
     "output_type": "stream",
     "text": [
      "['toyota', 'tata', 'ford', 'benz']\n"
     ]
    }
   ],
   "source": [
    "print(car)"
   ]
  },
  {
   "cell_type": "code",
   "execution_count": 24,
   "id": "1274b074",
   "metadata": {},
   "outputs": [
    {
     "name": "stdout",
     "output_type": "stream",
     "text": [
      "['toyota', 'tata', 'ford', 'benz']\n"
     ]
    }
   ],
   "source": [
    "print(car.copy())"
   ]
  },
  {
   "cell_type": "code",
   "execution_count": 28,
   "id": "78e1d51e",
   "metadata": {},
   "outputs": [
    {
     "data": {
      "text/plain": [
       "1"
      ]
     },
     "execution_count": 28,
     "metadata": {},
     "output_type": "execute_result"
    }
   ],
   "source": [
    "car.count(\"tata\")\n"
   ]
  },
  {
   "cell_type": "markdown",
   "id": "30f30777",
   "metadata": {},
   "source": [
    "car.index(\"ford\")"
   ]
  },
  {
   "cell_type": "code",
   "execution_count": 36,
   "id": "d5e1ea12",
   "metadata": {},
   "outputs": [
    {
     "name": "stdout",
     "output_type": "stream",
     "text": [
      "<__main__.Myclass object at 0x00000184C0340160> <function <lambda> at 0x00000184C025CD30>\n"
     ]
    }
   ],
   "source": [
    "class Myclass:\n",
    "    x = 10\n",
    "    \n",
    "p1 = Myclass()\n",
    "\n",
    "print(p1,x)"
   ]
  },
  {
   "cell_type": "code",
   "execution_count": 37,
   "id": "1b0916be",
   "metadata": {},
   "outputs": [
    {
     "name": "stdout",
     "output_type": "stream",
     "text": [
      "<__main__.Myclass object at 0x00000184C0340160> <function <lambda> at 0x00000184C025CD30>\n"
     ]
    }
   ],
   "source": [
    "print(p1,x)"
   ]
  },
  {
   "cell_type": "code",
   "execution_count": 54,
   "id": "0320666c",
   "metadata": {},
   "outputs": [
    {
     "name": "stdout",
     "output_type": "stream",
     "text": [
      "harry\n"
     ]
    }
   ],
   "source": [
    "class person:\n",
    "      def __init__(self,name,age):\n",
    "            self.name = name\n",
    "            self.age = age\n",
    "            \n",
    "def myfunc(self):\n",
    "    print(\"my name is\" + \" \" +self.name)\n",
    "            \n",
    "\n",
    "print(harry.name)"
   ]
  },
  {
   "cell_type": "code",
   "execution_count": 4,
   "id": "2e02f94f",
   "metadata": {},
   "outputs": [
    {
     "name": "stdout",
     "output_type": "stream",
     "text": [
      "13\n"
     ]
    }
   ],
   "source": [
    "def add(a,b,c):\n",
    "    return a+b+c\n",
    "\n",
    "\n",
    "print(add(4,4,5))"
   ]
  },
  {
   "cell_type": "markdown",
   "id": "311633cb",
   "metadata": {},
   "source": []
  },
  {
   "cell_type": "code",
   "execution_count": 65,
   "id": "c4675c61",
   "metadata": {},
   "outputs": [
    {
     "name": "stdout",
     "output_type": "stream",
     "text": [
      "apple and kiwi and graps\n",
      "apple , \n",
      "kiwi , \n",
      "graps , \n"
     ]
    }
   ],
   "source": [
    "mytuple = (\"apple\",\"kiwi\",\"graps\")\n",
    "myit = iter(mytuple)\n",
    "\n",
    "\n",
    "a=\" and \".join(mytuple)\n",
    "print(a)\n",
    "\n",
    "for item in mytuple:\n",
    "    print(item, \", \")\n",
    "    "
   ]
  },
  {
   "cell_type": "code",
   "execution_count": 16,
   "id": "4719e494",
   "metadata": {},
   "outputs": [
    {
     "ename": "StopIteration",
     "evalue": "",
     "output_type": "error",
     "traceback": [
      "\u001b[1;31m---------------------------------------------------------------------------\u001b[0m",
      "\u001b[1;31mStopIteration\u001b[0m                             Traceback (most recent call last)",
      "\u001b[1;32m<ipython-input-16-ec9104da3bd7>\u001b[0m in \u001b[0;36m<module>\u001b[1;34m\u001b[0m\n\u001b[1;32m----> 1\u001b[1;33m \u001b[0mnext\u001b[0m\u001b[1;33m(\u001b[0m\u001b[0mmyit\u001b[0m\u001b[1;33m)\u001b[0m\u001b[1;33m\u001b[0m\u001b[1;33m\u001b[0m\u001b[0m\n\u001b[0m",
      "\u001b[1;31mStopIteration\u001b[0m: "
     ]
    }
   ],
   "source": [
    "next(myit)"
   ]
  },
  {
   "cell_type": "code",
   "execution_count": 18,
   "id": "8fd74ccf",
   "metadata": {},
   "outputs": [
    {
     "name": "stdout",
     "output_type": "stream",
     "text": [
      "apple\n",
      "kiwi\n",
      "graps\n"
     ]
    }
   ],
   "source": [
    "for x in mytuple:\n",
    "    print(x)\n",
    "    "
   ]
  },
  {
   "cell_type": "code",
   "execution_count": null,
   "id": "b390ee2e",
   "metadata": {},
   "outputs": [],
   "source": [
    "class mynumbers:\n",
    "    def __iter__(self):\n",
    "        self.a = 1\n",
    "        return self\n",
    "    \n",
    "    def __next__(self):\n",
    "        if self.a <=10:\n",
    "            x = self.a\n",
    "            self.a += 1\n",
    "            return x\n",
    "        else:\n",
    "            return StopIteration\n",
    "        \n",
    "myclass = mynumbers()\n",
    "myiter = iter(myclass)\n",
    "\n",
    "for x in myiter:\n",
    "   "
   ]
  },
  {
   "cell_type": "markdown",
   "id": "c06f20d6",
   "metadata": {},
   "source": [
    "# python math"
   ]
  },
  {
   "cell_type": "code",
   "execution_count": 1,
   "id": "f2e68dbf",
   "metadata": {},
   "outputs": [
    {
     "data": {
      "text/plain": [
       "7"
      ]
     },
     "execution_count": 1,
     "metadata": {},
     "output_type": "execute_result"
    }
   ],
   "source": [
    "min(7,45,78)"
   ]
  },
  {
   "cell_type": "code",
   "execution_count": 2,
   "id": "6521fe34",
   "metadata": {},
   "outputs": [
    {
     "data": {
      "text/plain": [
       "1728"
      ]
     },
     "execution_count": 2,
     "metadata": {},
     "output_type": "execute_result"
    }
   ],
   "source": [
    "pow(12,3)"
   ]
  },
  {
   "cell_type": "code",
   "execution_count": 3,
   "id": "28614743",
   "metadata": {},
   "outputs": [
    {
     "name": "stdout",
     "output_type": "stream",
     "text": [
      "['__doc__', '__loader__', '__name__', '__package__', '__spec__', 'acos', 'acosh', 'asin', 'asinh', 'atan', 'atan2', 'atanh', 'ceil', 'comb', 'copysign', 'cos', 'cosh', 'degrees', 'dist', 'e', 'erf', 'erfc', 'exp', 'expm1', 'fabs', 'factorial', 'floor', 'fmod', 'frexp', 'fsum', 'gamma', 'gcd', 'hypot', 'inf', 'isclose', 'isfinite', 'isinf', 'isnan', 'isqrt', 'ldexp', 'lgamma', 'log', 'log10', 'log1p', 'log2', 'modf', 'nan', 'perm', 'pi', 'pow', 'prod', 'radians', 'remainder', 'sin', 'sinh', 'sqrt', 'tan', 'tanh', 'tau', 'trunc']\n"
     ]
    }
   ],
   "source": [
    "import math\n",
    "\n",
    "x = dir(math)\n",
    "print(x)"
   ]
  },
  {
   "cell_type": "code",
   "execution_count": 5,
   "id": "7ec52bef",
   "metadata": {},
   "outputs": [
    {
     "data": {
      "text/plain": [
       "50.0"
      ]
     },
     "execution_count": 5,
     "metadata": {},
     "output_type": "execute_result"
    }
   ],
   "source": [
    "math.sqrt(2500)"
   ]
  },
  {
   "cell_type": "code",
   "execution_count": 6,
   "id": "9e26535b",
   "metadata": {},
   "outputs": [
    {
     "data": {
      "text/plain": [
       "3.141592653589793"
      ]
     },
     "execution_count": 6,
     "metadata": {},
     "output_type": "execute_result"
    }
   ],
   "source": [
    "math.pi"
   ]
  },
  {
   "cell_type": "code",
   "execution_count": 7,
   "id": "1aaa0bad",
   "metadata": {},
   "outputs": [
    {
     "data": {
      "text/plain": [
       "['JSONDecodeError',\n",
       " 'JSONDecoder',\n",
       " 'JSONEncoder',\n",
       " '__all__',\n",
       " '__author__',\n",
       " '__builtins__',\n",
       " '__cached__',\n",
       " '__doc__',\n",
       " '__file__',\n",
       " '__loader__',\n",
       " '__name__',\n",
       " '__package__',\n",
       " '__path__',\n",
       " '__spec__',\n",
       " '__version__',\n",
       " '_default_decoder',\n",
       " '_default_encoder',\n",
       " 'codecs',\n",
       " 'decoder',\n",
       " 'detect_encoding',\n",
       " 'dump',\n",
       " 'dumps',\n",
       " 'encoder',\n",
       " 'load',\n",
       " 'loads',\n",
       " 'scanner']"
      ]
     },
     "execution_count": 7,
     "metadata": {},
     "output_type": "execute_result"
    }
   ],
   "source": [
    "import json\n",
    "\n",
    "dir(json)"
   ]
  },
  {
   "cell_type": "code",
   "execution_count": 9,
   "id": "971f8458",
   "metadata": {
    "scrolled": true
   },
   "outputs": [
    {
     "ename": "TypeError",
     "evalue": "'str' object is not callable",
     "output_type": "error",
     "traceback": [
      "\u001b[1;31m---------------------------------------------------------------------------\u001b[0m",
      "\u001b[1;31mTypeError\u001b[0m                                 Traceback (most recent call last)",
      "\u001b[1;32m<ipython-input-9-b111e9c6fe0d>\u001b[0m in \u001b[0;36m<module>\u001b[1;34m\u001b[0m\n\u001b[1;32m----> 1\u001b[1;33m \u001b[0mjson\u001b[0m\u001b[1;33m.\u001b[0m\u001b[0m__version__\u001b[0m\u001b[1;33m(\u001b[0m\u001b[1;34m\"good\"\u001b[0m\u001b[1;33m)\u001b[0m\u001b[1;33m\u001b[0m\u001b[1;33m\u001b[0m\u001b[0m\n\u001b[0m",
      "\u001b[1;31mTypeError\u001b[0m: 'str' object is not callable"
     ]
    }
   ],
   "source": []
  },
  {
   "cell_type": "code",
   "execution_count": 10,
   "id": "f8763d08",
   "metadata": {},
   "outputs": [],
   "source": [
    "x =  (\"bez\",\"tata\",\"maruti\")\n",
    "\n",
    "y = json.dumps(x)"
   ]
  },
  {
   "cell_type": "code",
   "execution_count": 11,
   "id": "320fac99",
   "metadata": {},
   "outputs": [
    {
     "name": "stdout",
     "output_type": "stream",
     "text": [
      "[\"bez\", \"tata\", \"maruti\"]\n"
     ]
    }
   ],
   "source": [
    "print(y)\n"
   ]
  },
  {
   "cell_type": "code",
   "execution_count": 12,
   "id": "46d57dbb",
   "metadata": {},
   "outputs": [
    {
     "data": {
      "text/plain": [
       "str"
      ]
     },
     "execution_count": 12,
     "metadata": {},
     "output_type": "execute_result"
    }
   ],
   "source": [
    "type(y)"
   ]
  },
  {
   "cell_type": "code",
   "execution_count": 13,
   "id": "609e1a90",
   "metadata": {},
   "outputs": [
    {
     "data": {
      "text/plain": [
       "['bez', 'tata', 'maruti']"
      ]
     },
     "execution_count": 13,
     "metadata": {},
     "output_type": "execute_result"
    }
   ],
   "source": [
    "json.loads(y)"
   ]
  },
  {
   "cell_type": "code",
   "execution_count": 14,
   "id": "65dda477",
   "metadata": {},
   "outputs": [
    {
     "data": {
      "text/plain": [
       "str"
      ]
     },
     "execution_count": 14,
     "metadata": {},
     "output_type": "execute_result"
    }
   ],
   "source": [
    "type(y)"
   ]
  },
  {
   "cell_type": "code",
   "execution_count": 19,
   "id": "333fedd1",
   "metadata": {},
   "outputs": [
    {
     "data": {
      "text/plain": [
       "'we are goinf to win,\\n otherwise we will go to hell'"
      ]
     },
     "execution_count": 19,
     "metadata": {},
     "output_type": "execute_result"
    }
   ],
   "source": [
    "\"we are goinf to win,\\n otherwise we will go to hell\""
   ]
  },
  {
   "cell_type": "code",
   "execution_count": 20,
   "id": "07be39ef",
   "metadata": {},
   "outputs": [],
   "source": [
    "import re"
   ]
  },
  {
   "cell_type": "code",
   "execution_count": 21,
   "id": "b07a0b64",
   "metadata": {},
   "outputs": [
    {
     "data": {
      "text/plain": [
       "['A',\n",
       " 'ASCII',\n",
       " 'DEBUG',\n",
       " 'DOTALL',\n",
       " 'I',\n",
       " 'IGNORECASE',\n",
       " 'L',\n",
       " 'LOCALE',\n",
       " 'M',\n",
       " 'MULTILINE',\n",
       " 'Match',\n",
       " 'Pattern',\n",
       " 'RegexFlag',\n",
       " 'S',\n",
       " 'Scanner',\n",
       " 'T',\n",
       " 'TEMPLATE',\n",
       " 'U',\n",
       " 'UNICODE',\n",
       " 'VERBOSE',\n",
       " 'X',\n",
       " '_MAXCACHE',\n",
       " '__all__',\n",
       " '__builtins__',\n",
       " '__cached__',\n",
       " '__doc__',\n",
       " '__file__',\n",
       " '__loader__',\n",
       " '__name__',\n",
       " '__package__',\n",
       " '__spec__',\n",
       " '__version__',\n",
       " '_cache',\n",
       " '_compile',\n",
       " '_compile_repl',\n",
       " '_expand',\n",
       " '_locale',\n",
       " '_pickle',\n",
       " '_special_chars_map',\n",
       " '_subx',\n",
       " 'compile',\n",
       " 'copyreg',\n",
       " 'enum',\n",
       " 'error',\n",
       " 'escape',\n",
       " 'findall',\n",
       " 'finditer',\n",
       " 'fullmatch',\n",
       " 'functools',\n",
       " 'match',\n",
       " 'purge',\n",
       " 'search',\n",
       " 'split',\n",
       " 'sre_compile',\n",
       " 'sre_parse',\n",
       " 'sub',\n",
       " 'subn',\n",
       " 'template']"
      ]
     },
     "execution_count": 21,
     "metadata": {},
     "output_type": "execute_result"
    }
   ],
   "source": [
    "dir(re)"
   ]
  },
  {
   "cell_type": "code",
   "execution_count": 22,
   "id": "abec0f57",
   "metadata": {},
   "outputs": [],
   "source": [
    "txt = \"we are the one who can do it all, with the utmost priority!\"\n"
   ]
  },
  {
   "cell_type": "code",
   "execution_count": 24,
   "id": "57b8bb0d",
   "metadata": {},
   "outputs": [
    {
     "name": "stdout",
     "output_type": "stream",
     "text": [
      "<re.Match object; span=(2, 3), match=' '>\n"
     ]
    }
   ],
   "source": [
    "x = re.search(\"\\s\", txt)\n",
    "print(x)"
   ]
  },
  {
   "cell_type": "code",
   "execution_count": 26,
   "id": "82f84f17",
   "metadata": {},
   "outputs": [
    {
     "name": "stdout",
     "output_type": "stream",
     "text": [
      "['we are the one who can do it all', ' with the utmost priority!']\n"
     ]
    }
   ],
   "source": [
    "q = re.split(\",\", txt)\n",
    "print(q)"
   ]
  },
  {
   "cell_type": "code",
   "execution_count": 28,
   "id": "a6228362",
   "metadata": {},
   "outputs": [
    {
     "name": "stdout",
     "output_type": "stream",
     "text": [
      "<re.Match object; span=(55, 59), match='ity!'>\n"
     ]
    }
   ],
   "source": [
    "w = re.search(\"ity!$\", txt)\n",
    "print(w)"
   ]
  },
  {
   "cell_type": "code",
   "execution_count": 31,
   "id": "d7490872",
   "metadata": {},
   "outputs": [
    {
     "name": "stdout",
     "output_type": "stream",
     "text": [
      "None\n"
     ]
    }
   ],
   "source": [
    "e = re.search(\"^who\", txt)\n",
    "print(e)"
   ]
  },
  {
   "cell_type": "code",
   "execution_count": 33,
   "id": "2fd5b33d",
   "metadata": {},
   "outputs": [
    {
     "name": "stdout",
     "output_type": "stream",
     "text": [
      "<re.Match object; span=(0, 1), match='w'>\n"
     ]
    }
   ],
   "source": [
    "r = re.search(\"[cwo]\",txt)\n",
    "print(r)"
   ]
  },
  {
   "cell_type": "code",
   "execution_count": 35,
   "id": "497ea208",
   "metadata": {},
   "outputs": [
    {
     "name": "stdout",
     "output_type": "stream",
     "text": [
      "<re.Match object; span=(1, 2), match='e'>\n"
     ]
    }
   ],
   "source": [
    "t = re.search(\"[a-m]\", txt)\n",
    "print(t)"
   ]
  },
  {
   "cell_type": "code",
   "execution_count": 37,
   "id": "99718c59",
   "metadata": {},
   "outputs": [
    {
     "name": "stdout",
     "output_type": "stream",
     "text": [
      "['it', 'it', 'it']\n"
     ]
    }
   ],
   "source": [
    "y =re.findall(\"it\", txt)\n",
    "print(y)"
   ]
  },
  {
   "cell_type": "code",
   "execution_count": 39,
   "id": "57df1d25",
   "metadata": {},
   "outputs": [
    {
     "name": "stdout",
     "output_type": "stream",
     "text": [
      "['who']\n"
     ]
    }
   ],
   "source": [
    "u = re.findall(\"who\", txt)\n",
    "print(u)"
   ]
  },
  {
   "cell_type": "code",
   "execution_count": 41,
   "id": "4df2a01b",
   "metadata": {},
   "outputs": [
    {
     "name": "stdout",
     "output_type": "stream",
     "text": [
      "[]\n"
     ]
    }
   ],
   "source": [
    "i = re.findall(\"care\",txt)\n",
    "print(i)"
   ]
  },
  {
   "cell_type": "code",
   "execution_count": 42,
   "id": "16523647",
   "metadata": {},
   "outputs": [
    {
     "name": "stdout",
     "output_type": "stream",
     "text": [
      "we_are_the_one_who_can_do_it_all,_with_the_utmost_priority!\n"
     ]
    }
   ],
   "source": [
    "o = re.sub(\" \",\"_\", txt)\n",
    "print(o)"
   ]
  },
  {
   "cell_type": "code",
   "execution_count": 44,
   "id": "e36acf17",
   "metadata": {},
   "outputs": [
    {
     "name": "stdout",
     "output_type": "stream",
     "text": [
      "None\n"
     ]
    }
   ],
   "source": [
    "p = re.search(\"[0-9]\",txt)\n",
    "print(p)"
   ]
  },
  {
   "cell_type": "markdown",
   "id": "651f2c0e",
   "metadata": {},
   "source": []
  },
  {
   "cell_type": "code",
   "execution_count": 73,
   "id": "54a6846c",
   "metadata": {},
   "outputs": [
    {
     "name": "stdout",
     "output_type": "stream",
     "text": [
      "145\n",
      "178\n",
      "123\n",
      "145\n",
      "126\n",
      "107\n",
      "106\n",
      "189\n"
     ]
    }
   ],
   "source": [
    "lis = [ 45, 78 ,1 , 2, 23,0, 45,26,7,5,6,89]\n",
    "\n",
    "for newlist in lis:\n",
    "    if newlist >= 6: \n",
    "         print(newlist + 100)\n",
    "   \n"
   ]
  },
  {
   "cell_type": "code",
   "execution_count": 30,
   "id": "517d3863",
   "metadata": {},
   "outputs": [
    {
     "ename": "NameError",
     "evalue": "name 'student' is not defined",
     "output_type": "error",
     "traceback": [
      "\u001b[1;31m---------------------------------------------------------------------------\u001b[0m",
      "\u001b[1;31mNameError\u001b[0m                                 Traceback (most recent call last)",
      "\u001b[1;32m<ipython-input-30-0edc3a130acb>\u001b[0m in \u001b[0;36m<module>\u001b[1;34m\u001b[0m\n\u001b[0;32m     21\u001b[0m \u001b[0mmaan\u001b[0m \u001b[1;33m=\u001b[0m \u001b[0mperson\u001b[0m\u001b[1;33m(\u001b[0m\u001b[1;34m\"maan\"\u001b[0m\u001b[1;33m,\u001b[0m\u001b[1;34m\"14\"\u001b[0m\u001b[1;33m,\u001b[0m\u001b[1;34m\"svl\"\u001b[0m\u001b[1;33m,\u001b[0m\u001b[1;34m\"9th\"\u001b[0m\u001b[1;33m)\u001b[0m\u001b[1;33m\u001b[0m\u001b[1;33m\u001b[0m\u001b[0m\n\u001b[0;32m     22\u001b[0m \u001b[0mnitin\u001b[0m \u001b[1;33m=\u001b[0m \u001b[0mperson\u001b[0m\u001b[1;33m(\u001b[0m\u001b[1;34m\"nitin\"\u001b[0m\u001b[1;33m,\u001b[0m\u001b[1;34m\"15\"\u001b[0m\u001b[1;33m,\u001b[0m\u001b[1;34m\"ppsv\"\u001b[0m\u001b[1;33m,\u001b[0m\u001b[1;34m\"10th\"\u001b[0m\u001b[1;33m)\u001b[0m\u001b[1;33m\u001b[0m\u001b[1;33m\u001b[0m\u001b[0m\n\u001b[1;32m---> 23\u001b[1;33m \u001b[0mqwe\u001b[0m \u001b[1;33m=\u001b[0m  \u001b[0mstudent\u001b[0m\u001b[1;33m(\u001b[0m\u001b[1;34m\"jerry\"\u001b[0m\u001b[1;33m,\u001b[0m\u001b[1;34m\"14\"\u001b[0m\u001b[1;33m,\u001b[0m\u001b[1;34m\"dnv\"\u001b[0m\u001b[1;33m,\u001b[0m\u001b[1;34m\"9th\"\u001b[0m\u001b[1;33m)\u001b[0m\u001b[1;33m\u001b[0m\u001b[1;33m\u001b[0m\u001b[0m\n\u001b[0m\u001b[0;32m     24\u001b[0m \u001b[1;33m\u001b[0m\u001b[0m\n\u001b[0;32m     25\u001b[0m \u001b[0mnitin\u001b[0m\u001b[1;33m.\u001b[0m\u001b[0mprintform\u001b[0m\u001b[1;33m(\u001b[0m\u001b[1;33m)\u001b[0m\u001b[1;33m\u001b[0m\u001b[1;33m\u001b[0m\u001b[0m\n",
      "\u001b[1;31mNameError\u001b[0m: name 'student' is not defined"
     ]
    }
   ],
   "source": [
    "class person:\n",
    "    \n",
    "    def __init__(self,name,age,schoolname,std):\n",
    "                        self.name = name\n",
    "                        self.age = age\n",
    "                        self.sname = schoolname\n",
    "                        self.std = std\n",
    "            \n",
    "    def printform(self):\n",
    "              print(self.name)\n",
    "            \n",
    "        \n",
    "    class student(person):\n",
    "          def form(self):\n",
    "                 return  (self.name, self.age)\n",
    "            \n",
    "\n",
    "            \n",
    "            \n",
    "x = person(\"jay\",\"15\",\"ppsv\",\"10th\")\n",
    "maan = person(\"maan\",\"14\",\"svl\",\"9th\")\n",
    "nitin = person(\"nitin\",\"15\",\"ppsv\",\"10th\")\n",
    "qwe =  student(\"jerry\",\"14\",\"dnv\",\"9th\")\n",
    "\n",
    "nitin.printform()\n",
    "\n",
    "\n"
   ]
  },
  {
   "cell_type": "markdown",
   "id": "cb6ff39f",
   "metadata": {},
   "source": [
    "#newmarkdown"
   ]
  },
  {
   "cell_type": "code",
   "execution_count": 16,
   "id": "3b52cee3",
   "metadata": {},
   "outputs": [
    {
     "name": "stdout",
     "output_type": "stream",
     "text": [
      "error occured\n",
      "it is done\n"
     ]
    }
   ],
   "source": [
    " \"print hello\"\n",
    "\n",
    "try:\n",
    "    #to find error\n",
    "    print(q)\n",
    "except:\n",
    "    #to handle the error\n",
    "    print(\"error occured\")\n",
    "finally:\n",
    "    #to execute the code regarless of try and except\n",
    "    print(\"it is done\")"
   ]
  },
  {
   "cell_type": "code",
   "execution_count": 28,
   "id": "7012494e",
   "metadata": {},
   "outputs": [],
   "source": [
    "x = 1\n",
    "\n",
    "try: \n",
    "    def func(x):\n",
    "        if x >2:\n",
    "               return x*2 + 45\n",
    "except:\n",
    "    print(\"x is not greater than 2\")\n",
    "    \n",
    " \n"
   ]
  },
  {
   "cell_type": "code",
   "execution_count": 31,
   "id": "e95add99",
   "metadata": {},
   "outputs": [
    {
     "ename": "TypeError",
     "evalue": "x is not an integer",
     "output_type": "error",
     "traceback": [
      "\u001b[1;31m---------------------------------------------------------------------------\u001b[0m",
      "\u001b[1;31mTypeError\u001b[0m                                 Traceback (most recent call last)",
      "\u001b[1;32m<ipython-input-31-c8b9474c1301>\u001b[0m in \u001b[0;36m<module>\u001b[1;34m\u001b[0m\n\u001b[0;32m      2\u001b[0m \u001b[1;33m\u001b[0m\u001b[0m\n\u001b[0;32m      3\u001b[0m \u001b[1;32mif\u001b[0m \u001b[0mtype\u001b[0m\u001b[1;33m(\u001b[0m\u001b[0mx\u001b[0m\u001b[1;33m)\u001b[0m \u001b[1;32mis\u001b[0m \u001b[1;32mnot\u001b[0m \u001b[0mint\u001b[0m\u001b[1;33m:\u001b[0m\u001b[1;33m\u001b[0m\u001b[1;33m\u001b[0m\u001b[0m\n\u001b[1;32m----> 4\u001b[1;33m     \u001b[1;32mraise\u001b[0m \u001b[0mTypeError\u001b[0m\u001b[1;33m(\u001b[0m\u001b[1;34m\"x is not an integer\"\u001b[0m\u001b[1;33m)\u001b[0m\u001b[1;33m\u001b[0m\u001b[1;33m\u001b[0m\u001b[0m\n\u001b[0m\u001b[0;32m      5\u001b[0m \u001b[1;33m\u001b[0m\u001b[0m\n",
      "\u001b[1;31mTypeError\u001b[0m: x is not an integer"
     ]
    }
   ],
   "source": [
    "x = \"hello\"\n",
    "\n",
    "if type(x) is not int:\n",
    "    raise TypeError(\"x is not an integer\")\n",
    "    "
   ]
  },
  {
   "cell_type": "code",
   "execution_count": 32,
   "id": "c354be0a",
   "metadata": {},
   "outputs": [],
   "source": [
    "import cmath\n"
   ]
  },
  {
   "cell_type": "code",
   "execution_count": 34,
   "id": "d1ba14e9",
   "metadata": {},
   "outputs": [
    {
     "name": "stdout",
     "output_type": "stream",
     "text": [
      "['__doc__', '__loader__', '__name__', '__package__', '__spec__', 'acos', 'acosh', 'asin', 'asinh', 'atan', 'atanh', 'cos', 'cosh', 'e', 'exp', 'inf', 'infj', 'isclose', 'isfinite', 'isinf', 'isnan', 'log', 'log10', 'nan', 'nanj', 'phase', 'pi', 'polar', 'rect', 'sin', 'sinh', 'sqrt', 'tan', 'tanh', 'tau']\n"
     ]
    }
   ],
   "source": [
    "w = dir(cmath)\n",
    "print(w)"
   ]
  },
  {
   "cell_type": "code",
   "execution_count": 35,
   "id": "2a690e16",
   "metadata": {},
   "outputs": [
    {
     "name": "stdout",
     "output_type": "stream",
     "text": [
      "(6.718516416988466+0.37210595983340766j)\n"
     ]
    }
   ],
   "source": [
    "e = cmath.sqrt(45 + 5j)\n",
    "print(e)"
   ]
  },
  {
   "cell_type": "code",
   "execution_count": 38,
   "id": "9248fdb3",
   "metadata": {},
   "outputs": [
    {
     "name": "stdout",
     "output_type": "stream",
     "text": [
      "(3.8105975814049224+0.08865588186743746j)\n"
     ]
    }
   ],
   "source": [
    "r = cmath.log(45 + 4j)\n",
    "print(r)"
   ]
  },
  {
   "cell_type": "code",
   "execution_count": 41,
   "id": "7e8e6b18",
   "metadata": {},
   "outputs": [
    {
     "name": "stdout",
     "output_type": "stream",
     "text": [
      "58.2\n"
     ]
    }
   ],
   "source": [
    "import statistics\n",
    "\n",
    "a = statistics.mean((45,78,89,56,23))\n",
    "print(a)"
   ]
  },
  {
   "cell_type": "code",
   "execution_count": null,
   "id": "b6e68918",
   "metadata": {},
   "outputs": [],
   "source": [
    "username = input(\"enter yourname:\")\n",
    "\n",
    "print(\"your name is\"+ \" \" + username)"
   ]
  },
  {
   "cell_type": "code",
   "execution_count": 15,
   "id": "3b64e95b",
   "metadata": {},
   "outputs": [
    {
     "data": {
      "text/plain": [
       "'my age is 22 and i am learning python'"
      ]
     },
     "execution_count": 15,
     "metadata": {},
     "output_type": "execute_result"
    }
   ],
   "source": [
    "# string format\n",
    "\n",
    "x = 22\n",
    "\n",
    "y = \"python\"\n",
    "\n",
    "txt = \"my age is {0} and i am learning {1}\"\n",
    "txt.format(22,\"python\")"
   ]
  },
  {
   "cell_type": "code",
   "execution_count": 14,
   "id": "28ec56b5",
   "metadata": {
    "scrolled": true
   },
   "outputs": [
    {
     "ename": "NameError",
     "evalue": "name 'txt' is not defined",
     "output_type": "error",
     "traceback": [
      "\u001b[1;31m---------------------------------------------------------------------------\u001b[0m",
      "\u001b[1;31mNameError\u001b[0m                                 Traceback (most recent call last)",
      "\u001b[1;32m<ipython-input-14-2e76d3082e64>\u001b[0m in \u001b[0;36m<module>\u001b[1;34m\u001b[0m\n\u001b[1;32m----> 1\u001b[1;33m \u001b[0mtxt\u001b[0m\u001b[1;33m.\u001b[0m\u001b[0mformat\u001b[0m\u001b[1;33m(\u001b[0m\u001b[1;36m22\u001b[0m\u001b[1;33m,\u001b[0m\u001b[1;34m\"python\"\u001b[0m\u001b[1;33m)\u001b[0m\u001b[1;33m\u001b[0m\u001b[1;33m\u001b[0m\u001b[0m\n\u001b[0m",
      "\u001b[1;31mNameError\u001b[0m: name 'txt' is not defined"
     ]
    }
   ],
   "source": [
    "txt.format(22,\"python\")"
   ]
  },
  {
   "cell_type": "code",
   "execution_count": 16,
   "id": "6aedd8f4",
   "metadata": {},
   "outputs": [
    {
     "data": {
      "text/plain": [
       "range(0, 5)"
      ]
     },
     "execution_count": 16,
     "metadata": {},
     "output_type": "execute_result"
    }
   ],
   "source": [
    "range(5)"
   ]
  },
  {
   "cell_type": "code",
   "execution_count": 51,
   "id": "52c7bca8",
   "metadata": {},
   "outputs": [
    {
     "name": "stdout",
     "output_type": "stream",
     "text": [
      "enter the number:4\n",
      "your answer is 30.0\n",
      "error did not ocurred\n"
     ]
    }
   ],
   "source": [
    "def _recursive(n):\n",
    "    if n == 0:\n",
    "        return 0\n",
    "    elif n ==1:\n",
    "        return 1\n",
    "    else:\n",
    "         result = n**2 + _recursive(n-1)\n",
    "    return result\n",
    "\n",
    "userinput = input(\"enter the number:\")\n",
    "userz = float(userinput)\n",
    "\n",
    "print(\"your answer is\",_recursive(userz))\n",
    "\n",
    "try:\n",
    "    _recursive(n)\n",
    "except:\n",
    "    print(\"error did not ocurred\")\n",
    "    \n",
    "    \n",
    "    "
   ]
  },
  {
   "cell_type": "code",
   "execution_count": null,
   "id": "febbef87",
   "metadata": {},
   "outputs": [],
   "source": []
  }
 ],
 "metadata": {
  "kernelspec": {
   "display_name": "Python 3",
   "language": "python",
   "name": "python3"
  },
  "language_info": {
   "codemirror_mode": {
    "name": "ipython",
    "version": 3
   },
   "file_extension": ".py",
   "mimetype": "text/x-python",
   "name": "python",
   "nbconvert_exporter": "python",
   "pygments_lexer": "ipython3",
   "version": "3.8.8"
  }
 },
 "nbformat": 4,
 "nbformat_minor": 5
}
